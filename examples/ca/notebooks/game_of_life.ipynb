{
 "cells": [
  {
   "cell_type": "code",
   "execution_count": 10,
   "id": "177d8157",
   "metadata": {},
   "outputs": [],
   "source": [
    "import sys\n",
    "import os\n",
    "\n",
    "# Adiciona o diretório raiz do projeto ao sys.path\n",
    "sys.path.append(os.path.abspath(\"../../../\"))  "
   ]
  },
  {
   "cell_type": "markdown",
   "id": "44b47e5c",
   "metadata": {},
   "source": [
    "## Game of Life (Jogo da Vida)\n",
    "\n",
    "O **Game of Life**, criado por John Conway, é um autômato celular clássico com regras simples:\n",
    "\n",
    "- Uma célula **viva** permanece viva com 2 ou 3 vizinhos vivos.\n",
    "- Uma célula **morta** revive com exatamente 3 vizinhos vivos.\n",
    "\n",
    "Essa regra pode ser implementada como a seguir:"
   ]
  },
  {
   "cell_type": "code",
   "execution_count": 11,
   "id": "cefca4ca",
   "metadata": {},
   "outputs": [],
   "source": [
    "def rule(self, idx):\n",
    "        \"\"\"\n",
    "        Aplica a regra do Game of Life para uma célula do índice `idx`.\n",
    "\n",
    "        Regras:\n",
    "        - Qualquer célula viva com menos de dois ou mais de três vizinhos vivos morre.\n",
    "        - Qualquer célula viva com dois ou três vizinhos sobrevive.\n",
    "        - Qualquer célula morta com exatamente três vizinhos vivos se torna viva.\n",
    "\n",
    "        Retorna:\n",
    "        - 0 para célula morta\n",
    "        - 1 para célula viva\n",
    "        \"\"\"\n",
    "        value = self.gdf.loc[idx, self.state_attr]\n",
    "        neighs = self.neighs(idx)\n",
    "        count = neighs[self.state_attr].fillna(0).sum()\n",
    "\n",
    "        if value == 1:\n",
    "            return 1 if 2 <= count <= 3 else 0\n",
    "        else:\n",
    "            return 1 if count == 3 else 0\n"
   ]
  },
  {
   "cell_type": "markdown",
   "id": "30654088",
   "metadata": {},
   "source": [
    "Sabendo-se a regra, vamos definir o modelo completo"
   ]
  },
  {
   "cell_type": "code",
   "execution_count": 12,
   "id": "36b56a56",
   "metadata": {},
   "outputs": [],
   "source": [
    "from dissmodel.core import Environment\n",
    "from dissmodel.geo import regular_grid, CellularAutomaton, fill, FillStrategy\n",
    "from dissmodel.visualization.map import Map\n",
    "from matplotlib.colors import ListedColormap\n",
    "import random\n",
    "from libpysal.weights import Queen\n"
   ]
  },
  {
   "cell_type": "markdown",
   "id": "7c39f341",
   "metadata": {},
   "source": [
    "## 🧩 Componentes do Modelo\n",
    "\n",
    "- A grade é inicializada com padrões (ex: `glider`, `toad`, etc.), usando `fill(..., strategy=FillStrategy.PATTERN)`.\n",
    "- A vizinhança usada é a **Queen**, que considera os 8 vizinhos ao redor.\n",
    "- A regra de atualização verifica o número de vizinhos vivos para decidir o próximo estado."
   ]
  },
  {
   "cell_type": "code",
   "execution_count": 13,
   "id": "4cd59094",
   "metadata": {},
   "outputs": [],
   "source": [
    "\n",
    "class GameOfLife(CellularAutomaton):\n",
    "    \"\"\"\n",
    "    Implementação do Game of Life como um autômato celular espacial.\n",
    "\n",
    "    A célula sobrevive, nasce ou morre conforme o número de vizinhos vivos.\n",
    "    \"\"\"\n",
    "\n",
    "    def initialize (self):\n",
    "        # Padrões clássicos do Game of Life\n",
    "        patterns = {\n",
    "            \"glider\": [\n",
    "                [0, 1, 0],\n",
    "                [0, 0, 1],\n",
    "                [1, 1, 1]\n",
    "            ],\n",
    "            \"toad\": [\n",
    "                [0, 1, 1, 1],\n",
    "                [1, 1, 1, 0]\n",
    "            ],\n",
    "            \"blinker\": [\n",
    "                [1, 1, 1]\n",
    "            ]\n",
    "        }\n",
    "        # assume uma grade com altura e largura iguais\n",
    "        grid_dim = int(len(self.gdf) ** 0.5)\n",
    "\n",
    "\n",
    "        # Inserção aleatória dos padrões\n",
    "        for name, pattern in patterns.items():\n",
    "            start_x = random.randint(0, grid_dim - len(pattern))\n",
    "            start_y = random.randint(0, grid_dim - len(pattern[0]))\n",
    "            \n",
    "            fill(\n",
    "                strategy=FillStrategy.PATTERN,\n",
    "                gdf=self.gdf,\n",
    "                attr=\"state\",\n",
    "                pattern=pattern,\n",
    "                start_x=start_x,\n",
    "                start_y=start_y\n",
    "            )\n",
    "\n",
    "    def setup(self):\n",
    "        \"\"\"\n",
    "        Inicializa a vizinhança usando a estratégia Queen.\n",
    "        \"\"\"\n",
    "        self.create_neighborhood(strategy=Queen, use_index=True)\n",
    "\n",
    "    def rule(self, idx):\n",
    "        \"\"\"\n",
    "        Aplica a regra do Game of Life para uma célula do índice `idx`.\n",
    "\n",
    "        Regras:\n",
    "        - Qualquer célula viva com menos de dois ou mais de três vizinhos vivos morre.\n",
    "        - Qualquer célula viva com dois ou três vizinhos sobrevive.\n",
    "        - Qualquer célula morta com exatamente três vizinhos vivos se torna viva.\n",
    "\n",
    "        Retorna:\n",
    "        - 0 para célula morta\n",
    "        - 1 para célula viva\n",
    "        \"\"\"\n",
    "        value = self.gdf.loc[idx, self.state_attr]\n",
    "        neighs = self.neighs(idx)\n",
    "        count = neighs[self.state_attr].fillna(0).sum()\n",
    "\n",
    "        if value == 1:\n",
    "            return 1 if 2 <= count <= 3 else 0\n",
    "        else:\n",
    "            return 1 if count == 3 else 0\n"
   ]
  },
  {
   "cell_type": "markdown",
   "id": "1811f2ed",
   "metadata": {},
   "source": [
    "Cria a grade com uma dada dimensão"
   ]
  },
  {
   "cell_type": "code",
   "execution_count": 14,
   "id": "a48836bf",
   "metadata": {},
   "outputs": [],
   "source": [
    "# Criação da grade espacial\n",
    "grid = regular_grid(dimension=(20, 20), resolution=1, attrs={'state': 0})"
   ]
  },
  {
   "cell_type": "markdown",
   "id": "cc53c855",
   "metadata": {},
   "source": [
    "Para execução do modelo, define-se um ambiente."
   ]
  },
  {
   "cell_type": "code",
   "execution_count": 15,
   "id": "de4f70f4",
   "metadata": {},
   "outputs": [],
   "source": [
    "\n",
    "env = Environment(end_time=10, start_time=0)"
   ]
  },
  {
   "cell_type": "markdown",
   "id": "f9a7ad24",
   "metadata": {},
   "source": [
    "Instancia-se o modelo"
   ]
  },
  {
   "cell_type": "code",
   "execution_count": 16,
   "id": "f08fe51e",
   "metadata": {},
   "outputs": [],
   "source": [
    "model = GameOfLife(gdf=grid)\n",
    "model.initialize()"
   ]
  },
  {
   "cell_type": "markdown",
   "id": "974aff33",
   "metadata": {},
   "source": [
    "Um map é um tipo especial de \"modelo\", que é tambem sera gerenciado pelo environmente"
   ]
  },
  {
   "cell_type": "code",
   "execution_count": 17,
   "id": "e33c02f1",
   "metadata": {},
   "outputs": [],
   "source": [
    "\n",
    "plot_params = {\n",
    "    \"column\": \"state\",\n",
    "    \"cmap\": ListedColormap(['green', 'red']),\n",
    "    \"ec\": \"black\"\n",
    "}\n",
    "\n",
    "m = Map(\n",
    "        gdf=grid,\n",
    "        plot_params=plot_params\n",
    ")"
   ]
  },
  {
   "cell_type": "markdown",
   "id": "e8ce2321",
   "metadata": {},
   "source": [
    "instanciado o modelo, e Map, pode-s inicia a execução"
   ]
  },
  {
   "cell_type": "code",
   "execution_count": 9,
   "id": "d65cc43c",
   "metadata": {},
   "outputs": [
    {
     "data": {
      "image/png": "[encoded data removed]",
      "text/plain": [
       "<Figure size 1000x600 with 1 Axes>"
      ]
     },
     "metadata": {},
     "output_type": "display_data"
    }
   ],
   "source": [
    "env.run()"
   ]
  }
 ],
 "metadata": {
  "kernelspec": {
   "display_name": ".venv",
   "language": "python",
   "name": "python3"
  },
  "language_info": {
   "codemirror_mode": {
    "name": "ipython",
    "version": 3
   },
   "file_extension": ".py",
   "mimetype": "text/x-python",
   "name": "python",
   "nbconvert_exporter": "python",
   "pygments_lexer": "ipython3",
   "version": "3.10.12"
  }
 },
 "nbformat": 4,
 "nbformat_minor": 5
}
